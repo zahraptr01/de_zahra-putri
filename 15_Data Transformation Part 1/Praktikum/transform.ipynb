{
 "cells": [
  {
   "cell_type": "code",
   "execution_count": 1,
   "metadata": {},
   "outputs": [
    {
     "name": "stdout",
     "output_type": "stream",
     "text": [
      "Collecting scikit-learn\n",
      "  Downloading scikit_learn-1.4.2-cp39-cp39-win_amd64.whl (10.6 MB)\n",
      "     ---------------------------------------- 10.6/10.6 MB 1.5 MB/s eta 0:00:00\n",
      "Collecting threadpoolctl>=2.0.0\n",
      "  Downloading threadpoolctl-3.4.0-py3-none-any.whl (17 kB)\n",
      "Requirement already satisfied: scipy>=1.6.0 in c:\\users\\asus\\appdata\\local\\programs\\python\\python39\\lib\\site-packages (from scikit-learn) (1.13.0)\n",
      "Collecting joblib>=1.2.0\n",
      "  Downloading joblib-1.4.0-py3-none-any.whl (301 kB)\n",
      "     -------------------------------------- 301.2/301.2 KB 2.7 MB/s eta 0:00:00\n",
      "Requirement already satisfied: numpy>=1.19.5 in c:\\users\\asus\\appdata\\local\\programs\\python\\python39\\lib\\site-packages (from scikit-learn) (1.26.4)\n",
      "Installing collected packages: threadpoolctl, joblib, scikit-learn\n",
      "Successfully installed joblib-1.4.0 scikit-learn-1.4.2 threadpoolctl-3.4.0\n",
      "Note: you may need to restart the kernel to use updated packages.\n"
     ]
    },
    {
     "name": "stderr",
     "output_type": "stream",
     "text": [
      "WARNING: You are using pip version 22.0.4; however, version 24.0 is available.\n",
      "You should consider upgrading via the 'c:\\Users\\ASUS\\AppData\\Local\\Programs\\Python\\Python39\\python.exe -m pip install --upgrade pip' command.\n"
     ]
    }
   ],
   "source": [
    "pip install scikit-learn"
   ]
  },
  {
   "cell_type": "code",
   "execution_count": 24,
   "metadata": {},
   "outputs": [],
   "source": [
    "import pandas as pd\n",
    "from sklearn.preprocessing import MinMaxScaler"
   ]
  },
  {
   "cell_type": "code",
   "execution_count": 25,
   "metadata": {},
   "outputs": [
    {
     "data": {
      "text/html": [
       "<div>\n",
       "<style scoped>\n",
       "    .dataframe tbody tr th:only-of-type {\n",
       "        vertical-align: middle;\n",
       "    }\n",
       "\n",
       "    .dataframe tbody tr th {\n",
       "        vertical-align: top;\n",
       "    }\n",
       "\n",
       "    .dataframe thead th {\n",
       "        text-align: right;\n",
       "    }\n",
       "</style>\n",
       "<table border=\"1\" class=\"dataframe\">\n",
       "  <thead>\n",
       "    <tr style=\"text-align: right;\">\n",
       "      <th></th>\n",
       "      <th>category</th>\n",
       "      <th>price</th>\n",
       "      <th>currency</th>\n",
       "      <th>price_1m2</th>\n",
       "      <th>title</th>\n",
       "      <th>address</th>\n",
       "      <th>floor</th>\n",
       "      <th>area</th>\n",
       "      <th>title_deed</th>\n",
       "      <th>repair</th>\n",
       "      <th>mortgage</th>\n",
       "      <th>url</th>\n",
       "      <th>room_number</th>\n",
       "    </tr>\n",
       "  </thead>\n",
       "  <tbody>\n",
       "    <tr>\n",
       "      <th>0</th>\n",
       "      <td>Köhnə tikili</td>\n",
       "      <td>137 000</td>\n",
       "      <td>AZN</td>\n",
       "      <td>2 630 AZN/m²</td>\n",
       "      <td>Satılır 3 otaqlı köhnə tikili 52 m², 8-ci kilo...</td>\n",
       "      <td>Elşən Süleymanov küç 137</td>\n",
       "      <td>7 / 9</td>\n",
       "      <td>52 m²</td>\n",
       "      <td>var</td>\n",
       "      <td>var</td>\n",
       "      <td>NaN</td>\n",
       "      <td>https://bina.az/items/3858477</td>\n",
       "      <td>3.0</td>\n",
       "    </tr>\n",
       "    <tr>\n",
       "      <th>1</th>\n",
       "      <td>Yeni tikili</td>\n",
       "      <td>183 000</td>\n",
       "      <td>AZN</td>\n",
       "      <td>1 790 AZN/m²</td>\n",
       "      <td>Satılır 2 otaqlı yeni tikili 102 m², Neftçilər m.</td>\n",
       "      <td>Mehdi Abbasov küçəsi</td>\n",
       "      <td>2 / 17</td>\n",
       "      <td>102 m²</td>\n",
       "      <td>yoxdur</td>\n",
       "      <td>var</td>\n",
       "      <td>NaN</td>\n",
       "      <td>https://bina.az/items/3858493</td>\n",
       "      <td>2.0</td>\n",
       "    </tr>\n",
       "    <tr>\n",
       "      <th>2</th>\n",
       "      <td>Köhnə tikili</td>\n",
       "      <td>145 000</td>\n",
       "      <td>AZN</td>\n",
       "      <td>2 230 AZN/m²</td>\n",
       "      <td>Satılır 2 otaqlı köhnə tikili 65 m², Nərimanov r.</td>\n",
       "      <td>Atatürk Prospekti</td>\n",
       "      <td>6 / 9</td>\n",
       "      <td>65 m²</td>\n",
       "      <td>var</td>\n",
       "      <td>var</td>\n",
       "      <td>var</td>\n",
       "      <td>https://bina.az/items/3858489</td>\n",
       "      <td>2.0</td>\n",
       "    </tr>\n",
       "    <tr>\n",
       "      <th>3</th>\n",
       "      <td>Köhnə tikili</td>\n",
       "      <td>190 000</td>\n",
       "      <td>AZN</td>\n",
       "      <td>2 000 AZN/m²</td>\n",
       "      <td>Satılır 3 otaqlı köhnə tikili 95 m², Gənclik m.</td>\n",
       "      <td>Atatürk pr.</td>\n",
       "      <td>4 / 9</td>\n",
       "      <td>95 m²</td>\n",
       "      <td>var</td>\n",
       "      <td>var</td>\n",
       "      <td>var</td>\n",
       "      <td>https://bina.az/items/3858491</td>\n",
       "      <td>3.0</td>\n",
       "    </tr>\n",
       "    <tr>\n",
       "      <th>4</th>\n",
       "      <td>Yeni tikili</td>\n",
       "      <td>294 000</td>\n",
       "      <td>AZN</td>\n",
       "      <td>1 550 AZN/m²</td>\n",
       "      <td>Satılır 3 otaqlı yeni tikili 190 m², Nəsimi r.</td>\n",
       "      <td>Möhsün Sənani küçəsi</td>\n",
       "      <td>6 / 16</td>\n",
       "      <td>190 m²</td>\n",
       "      <td>var</td>\n",
       "      <td>yoxdur</td>\n",
       "      <td>NaN</td>\n",
       "      <td>https://bina.az/items/3858488</td>\n",
       "      <td>3.0</td>\n",
       "    </tr>\n",
       "  </tbody>\n",
       "</table>\n",
       "</div>"
      ],
      "text/plain": [
       "       category    price currency     price_1m2  \\\n",
       "0  Köhnə tikili  137 000      AZN  2 630 AZN/m²   \n",
       "1   Yeni tikili  183 000      AZN  1 790 AZN/m²   \n",
       "2  Köhnə tikili  145 000      AZN  2 230 AZN/m²   \n",
       "3  Köhnə tikili  190 000      AZN  2 000 AZN/m²   \n",
       "4   Yeni tikili  294 000      AZN  1 550 AZN/m²   \n",
       "\n",
       "                                               title  \\\n",
       "0  Satılır 3 otaqlı köhnə tikili 52 m², 8-ci kilo...   \n",
       "1  Satılır 2 otaqlı yeni tikili 102 m², Neftçilər m.   \n",
       "2  Satılır 2 otaqlı köhnə tikili 65 m², Nərimanov r.   \n",
       "3    Satılır 3 otaqlı köhnə tikili 95 m², Gənclik m.   \n",
       "4     Satılır 3 otaqlı yeni tikili 190 m², Nəsimi r.   \n",
       "\n",
       "                    address   floor    area title_deed  repair mortgage  \\\n",
       "0  Elşən Süleymanov küç 137   7 / 9   52 m²        var     var      NaN   \n",
       "1      Mehdi Abbasov küçəsi  2 / 17  102 m²     yoxdur     var      NaN   \n",
       "2         Atatürk Prospekti   6 / 9   65 m²        var     var      var   \n",
       "3               Atatürk pr.   4 / 9   95 m²        var     var      var   \n",
       "4      Möhsün Sənani küçəsi  6 / 16  190 m²        var  yoxdur      NaN   \n",
       "\n",
       "                             url  room_number  \n",
       "0  https://bina.az/items/3858477          3.0  \n",
       "1  https://bina.az/items/3858493          2.0  \n",
       "2  https://bina.az/items/3858489          2.0  \n",
       "3  https://bina.az/items/3858491          3.0  \n",
       "4  https://bina.az/items/3858488          3.0  "
      ]
     },
     "execution_count": 25,
     "metadata": {},
     "output_type": "execute_result"
    }
   ],
   "source": [
    "data = pd.read_csv('house_listings.csv')\n",
    "data.head(5)"
   ]
  },
  {
   "cell_type": "markdown",
   "metadata": {},
   "source": [
    "## Normalisasi Data"
   ]
  },
  {
   "cell_type": "code",
   "execution_count": 26,
   "metadata": {},
   "outputs": [
    {
     "name": "stdout",
     "output_type": "stream",
     "text": [
      "          price  price_1m2\n",
      "0      0.021298   0.116922\n",
      "1      0.030369   0.076321\n",
      "2      0.022875   0.097588\n",
      "3      0.031749   0.086471\n",
      "4      0.052258   0.064720\n",
      "...         ...        ...\n",
      "35498  0.020903   0.090338\n",
      "35499  0.042595   0.121272\n",
      "35500  0.055216   0.101455\n",
      "35501  0.051864   0.093721\n",
      "35502  0.019917   0.094688\n",
      "\n",
      "[35503 rows x 2 columns]\n"
     ]
    }
   ],
   "source": [
    "data['price'] = data['price'].str.replace(' ', '').astype(float)\n",
    "\n",
    "data['price_1m2'] = data['price_1m2'].str.replace(' AZN/m²', '').str.replace(' ', '').astype(float)\n",
    "\n",
    "# Normalisasi harga rumah dan harga per meter persegi menggunakan Min-Max scaling\n",
    "scaler = MinMaxScaler()\n",
    "data[['price', 'price_1m2']] = scaler.fit_transform(data[['price', 'price_1m2']])\n",
    "\n",
    "# Menampilkan hasil normalisasi data\n",
    "print(data[['price', 'price_1m2']])"
   ]
  },
  {
   "cell_type": "markdown",
   "metadata": {},
   "source": [
    "## Encoding Data"
   ]
  },
  {
   "cell_type": "code",
   "execution_count": 27,
   "metadata": {},
   "outputs": [
    {
     "name": "stdout",
     "output_type": "stream",
     "text": [
      "Index(['price', 'currency', 'price_1m2', 'title', 'address', 'floor', 'area',\n",
      "       'url', 'room_number', 'category_Köhnə tikili', 'category_Yeni tikili',\n",
      "       'title_deed_var', 'title_deed_yoxdur', 'repair_var', 'repair_yoxdur',\n",
      "       'mortgage_var'],\n",
      "      dtype='object')\n"
     ]
    }
   ],
   "source": [
    "# Encoding data kategorikal pada kolom 'Category', 'title_deed', 'repair', dan 'mortgage'\n",
    "data = pd.get_dummies(data, columns=['category', 'title_deed', 'repair', 'mortgage'])\n",
    "\n",
    "# Menampilkan hasil encoding data\n",
    "print(data.columns)"
   ]
  },
  {
   "cell_type": "markdown",
   "metadata": {},
   "source": [
    "## Agregasi Data"
   ]
  },
  {
   "cell_type": "code",
   "execution_count": 29,
   "metadata": {},
   "outputs": [
    {
     "name": "stdout",
     "output_type": "stream",
     "text": [
      "                                                        avg_price  \\\n",
      "room_number category_Köhnə tikili category_Yeni tikili              \n",
      "1.0         False                 True                   0.018380   \n",
      "            True                  False                  0.012295   \n",
      "2.0         False                 True                   0.026653   \n",
      "            True                  False                  0.017951   \n",
      "3.0         False                 True                   0.044644   \n",
      "            True                  False                  0.027152   \n",
      "4.0         False                 True                   0.074255   \n",
      "            True                  False                  0.036024   \n",
      "5.0         False                 True                   0.118087   \n",
      "            True                  False                  0.048823   \n",
      "6.0         False                 True                   0.160358   \n",
      "            True                  False                  0.117555   \n",
      "7.0         False                 True                   0.199524   \n",
      "            True                  False                  0.146445   \n",
      "8.0         False                 True                   0.324756   \n",
      "            True                  False                  0.222635   \n",
      "9.0         False                 True                   0.276606   \n",
      "10.0        False                 True                   0.357852   \n",
      "            True                  False                  0.526721   \n",
      "11.0        False                 True                   0.385526   \n",
      "12.0        True                  False                  0.388681   \n",
      "14.0        False                 True                   0.201341   \n",
      "15.0        False                 True                   0.623472   \n",
      "\n",
      "                                                        median_price  \\\n",
      "room_number category_Köhnə tikili category_Yeni tikili                 \n",
      "1.0         False                 True                      0.017945   \n",
      "            True                  False                     0.011635   \n",
      "2.0         False                 True                      0.024847   \n",
      "            True                  False                     0.016959   \n",
      "3.0         False                 True                      0.042595   \n",
      "            True                  False                     0.024551   \n",
      "4.0         False                 True                      0.067245   \n",
      "            True                  False                     0.029777   \n",
      "5.0         False                 True                      0.096825   \n",
      "            True                  False                     0.034017   \n",
      "6.0         False                 True                      0.142181   \n",
      "            True                  False                     0.092881   \n",
      "7.0         False                 True                      0.167817   \n",
      "            True                  False                     0.117531   \n",
      "8.0         False                 True                      0.246697   \n",
      "            True                  False                     0.171761   \n",
      "9.0         False                 True                      0.229935   \n",
      "10.0        False                 True                      0.309801   \n",
      "            True                  False                     0.526721   \n",
      "11.0        False                 True                      0.385526   \n",
      "12.0        True                  False                     0.388681   \n",
      "14.0        False                 True                      0.201341   \n",
      "15.0        False                 True                      0.585880   \n",
      "\n",
      "                                                        mode_price  \n",
      "room_number category_Köhnə tikili category_Yeni tikili              \n",
      "1.0         False                 True                    0.019917  \n",
      "            True                  False                   0.013015  \n",
      "2.0         False                 True                    0.022875  \n",
      "            True                  False                   0.017945  \n",
      "3.0         False                 True                    0.043581  \n",
      "            True                  False                   0.028791  \n",
      "4.0         False                 True                    0.063301  \n",
      "            True                  False                   0.026819  \n",
      "5.0         False                 True                    0.083021  \n",
      "            True                  False                   0.037665  \n",
      "6.0         False                 True                    0.191481  \n",
      "            True                  False                   0.048511  \n",
      "7.0         False                 True                    0.061724  \n",
      "            True                  False                   0.026819  \n",
      "8.0         False                 True                    0.104713  \n",
      "            True                  False                   0.142161  \n",
      "9.0         False                 True                    0.152041  \n",
      "10.0        False                 True                    0.485309  \n",
      "            True                  False                   0.526721  \n",
      "11.0        False                 True                    0.329521  \n",
      "12.0        True                  False                   0.388681  \n",
      "14.0        False                 True                    0.201341  \n",
      "15.0        False                 True                    0.585880  \n"
     ]
    }
   ],
   "source": [
    "# Aggregasi data rata-rata, median, dan modus dari harga rumah berdasarkan jumlah kamar dan tipe bangunan\n",
    "data_agregasi = data.groupby(['room_number', 'category_Köhnə tikili', 'category_Yeni tikili']).agg({'price': ['mean', 'median', lambda x: x.mode()[0]]})\n",
    "data_agregasi.columns = ['avg_price', 'median_price', 'mode_price']\n",
    "\n",
    "# Menyimpan hasil aggregasi ke file Excel\n",
    "data_agregasi.to_excel('data_agregasi.xlsx')\n",
    "\n",
    "# Menampilkan hasil aggregasi\n",
    "print(data_agregasi)"
   ]
  },
  {
   "cell_type": "code",
   "execution_count": null,
   "metadata": {},
   "outputs": [],
   "source": []
  }
 ],
 "metadata": {
  "kernelspec": {
   "display_name": "Python 3",
   "language": "python",
   "name": "python3"
  },
  "language_info": {
   "codemirror_mode": {
    "name": "ipython",
    "version": 3
   },
   "file_extension": ".py",
   "mimetype": "text/x-python",
   "name": "python",
   "nbconvert_exporter": "python",
   "pygments_lexer": "ipython3",
   "version": "3.9.13"
  }
 },
 "nbformat": 4,
 "nbformat_minor": 2
}
