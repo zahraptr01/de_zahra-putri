{
 "cells": [
  {
   "cell_type": "markdown",
   "metadata": {},
   "source": [
    "## Mengelola Nilai yang Hilang"
   ]
  },
  {
   "cell_type": "code",
   "execution_count": 11,
   "metadata": {},
   "outputs": [
    {
     "data": {
      "text/html": [
       "<div>\n",
       "<style scoped>\n",
       "    .dataframe tbody tr th:only-of-type {\n",
       "        vertical-align: middle;\n",
       "    }\n",
       "\n",
       "    .dataframe tbody tr th {\n",
       "        vertical-align: top;\n",
       "    }\n",
       "\n",
       "    .dataframe thead th {\n",
       "        text-align: right;\n",
       "    }\n",
       "</style>\n",
       "<table border=\"1\" class=\"dataframe\">\n",
       "  <thead>\n",
       "    <tr style=\"text-align: right;\">\n",
       "      <th></th>\n",
       "      <th>category</th>\n",
       "      <th>price</th>\n",
       "      <th>currency</th>\n",
       "      <th>price_1m2</th>\n",
       "      <th>title</th>\n",
       "      <th>address</th>\n",
       "      <th>floor</th>\n",
       "      <th>area</th>\n",
       "      <th>title_deed</th>\n",
       "      <th>repair</th>\n",
       "      <th>mortgage</th>\n",
       "      <th>url</th>\n",
       "      <th>room_number</th>\n",
       "    </tr>\n",
       "  </thead>\n",
       "  <tbody>\n",
       "    <tr>\n",
       "      <th>0</th>\n",
       "      <td>Köhnə tikili</td>\n",
       "      <td>137 000</td>\n",
       "      <td>AZN</td>\n",
       "      <td>2 630 AZN/m²</td>\n",
       "      <td>Satılır 3 otaqlı köhnə tikili 52 m², 8-ci kilo...</td>\n",
       "      <td>Elşən Süleymanov küç 137</td>\n",
       "      <td>7 / 9</td>\n",
       "      <td>52 m²</td>\n",
       "      <td>var</td>\n",
       "      <td>var</td>\n",
       "      <td>NaN</td>\n",
       "      <td>https://bina.az/items/3858477</td>\n",
       "      <td>3.0</td>\n",
       "    </tr>\n",
       "    <tr>\n",
       "      <th>1</th>\n",
       "      <td>Yeni tikili</td>\n",
       "      <td>183 000</td>\n",
       "      <td>AZN</td>\n",
       "      <td>1 790 AZN/m²</td>\n",
       "      <td>Satılır 2 otaqlı yeni tikili 102 m², Neftçilər m.</td>\n",
       "      <td>Mehdi Abbasov küçəsi</td>\n",
       "      <td>2 / 17</td>\n",
       "      <td>102 m²</td>\n",
       "      <td>yoxdur</td>\n",
       "      <td>var</td>\n",
       "      <td>NaN</td>\n",
       "      <td>https://bina.az/items/3858493</td>\n",
       "      <td>2.0</td>\n",
       "    </tr>\n",
       "    <tr>\n",
       "      <th>2</th>\n",
       "      <td>Köhnə tikili</td>\n",
       "      <td>145 000</td>\n",
       "      <td>AZN</td>\n",
       "      <td>2 230 AZN/m²</td>\n",
       "      <td>Satılır 2 otaqlı köhnə tikili 65 m², Nərimanov r.</td>\n",
       "      <td>Atatürk Prospekti</td>\n",
       "      <td>6 / 9</td>\n",
       "      <td>65 m²</td>\n",
       "      <td>var</td>\n",
       "      <td>var</td>\n",
       "      <td>var</td>\n",
       "      <td>https://bina.az/items/3858489</td>\n",
       "      <td>2.0</td>\n",
       "    </tr>\n",
       "    <tr>\n",
       "      <th>3</th>\n",
       "      <td>Köhnə tikili</td>\n",
       "      <td>190 000</td>\n",
       "      <td>AZN</td>\n",
       "      <td>2 000 AZN/m²</td>\n",
       "      <td>Satılır 3 otaqlı köhnə tikili 95 m², Gənclik m.</td>\n",
       "      <td>Atatürk pr.</td>\n",
       "      <td>4 / 9</td>\n",
       "      <td>95 m²</td>\n",
       "      <td>var</td>\n",
       "      <td>var</td>\n",
       "      <td>var</td>\n",
       "      <td>https://bina.az/items/3858491</td>\n",
       "      <td>3.0</td>\n",
       "    </tr>\n",
       "    <tr>\n",
       "      <th>4</th>\n",
       "      <td>Yeni tikili</td>\n",
       "      <td>294 000</td>\n",
       "      <td>AZN</td>\n",
       "      <td>1 550 AZN/m²</td>\n",
       "      <td>Satılır 3 otaqlı yeni tikili 190 m², Nəsimi r.</td>\n",
       "      <td>Möhsün Sənani küçəsi</td>\n",
       "      <td>6 / 16</td>\n",
       "      <td>190 m²</td>\n",
       "      <td>var</td>\n",
       "      <td>yoxdur</td>\n",
       "      <td>NaN</td>\n",
       "      <td>https://bina.az/items/3858488</td>\n",
       "      <td>3.0</td>\n",
       "    </tr>\n",
       "  </tbody>\n",
       "</table>\n",
       "</div>"
      ],
      "text/plain": [
       "       category    price currency     price_1m2  \\\n",
       "0  Köhnə tikili  137 000      AZN  2 630 AZN/m²   \n",
       "1   Yeni tikili  183 000      AZN  1 790 AZN/m²   \n",
       "2  Köhnə tikili  145 000      AZN  2 230 AZN/m²   \n",
       "3  Köhnə tikili  190 000      AZN  2 000 AZN/m²   \n",
       "4   Yeni tikili  294 000      AZN  1 550 AZN/m²   \n",
       "\n",
       "                                               title  \\\n",
       "0  Satılır 3 otaqlı köhnə tikili 52 m², 8-ci kilo...   \n",
       "1  Satılır 2 otaqlı yeni tikili 102 m², Neftçilər m.   \n",
       "2  Satılır 2 otaqlı köhnə tikili 65 m², Nərimanov r.   \n",
       "3    Satılır 3 otaqlı köhnə tikili 95 m², Gənclik m.   \n",
       "4     Satılır 3 otaqlı yeni tikili 190 m², Nəsimi r.   \n",
       "\n",
       "                    address   floor    area title_deed  repair mortgage  \\\n",
       "0  Elşən Süleymanov küç 137   7 / 9   52 m²        var     var      NaN   \n",
       "1      Mehdi Abbasov küçəsi  2 / 17  102 m²     yoxdur     var      NaN   \n",
       "2         Atatürk Prospekti   6 / 9   65 m²        var     var      var   \n",
       "3               Atatürk pr.   4 / 9   95 m²        var     var      var   \n",
       "4      Möhsün Sənani küçəsi  6 / 16  190 m²        var  yoxdur      NaN   \n",
       "\n",
       "                             url  room_number  \n",
       "0  https://bina.az/items/3858477          3.0  \n",
       "1  https://bina.az/items/3858493          2.0  \n",
       "2  https://bina.az/items/3858489          2.0  \n",
       "3  https://bina.az/items/3858491          3.0  \n",
       "4  https://bina.az/items/3858488          3.0  "
      ]
     },
     "execution_count": 11,
     "metadata": {},
     "output_type": "execute_result"
    }
   ],
   "source": [
    "import pandas as pd\n",
    "\n",
    "data = pd.read_csv('house_listings.csv')\n",
    "data.head(5)"
   ]
  },
  {
   "cell_type": "code",
   "execution_count": 12,
   "metadata": {},
   "outputs": [
    {
     "name": "stdout",
     "output_type": "stream",
     "text": [
      "Jumlah nilai yang hilang pada kolom 'area': 37\n",
      "Jumlah nilai yang hilang pada kolom 'floor': 37\n"
     ]
    }
   ],
   "source": [
    "# Identifikasi nilai yang hilang pada kolom 'area' dan 'floor'\n",
    "missing_area = data['area'].isnull().sum()\n",
    "missing_floor = data['floor'].isnull().sum()\n",
    "\n",
    "print(f\"Jumlah nilai yang hilang pada kolom 'area': {missing_area}\")\n",
    "print(f\"Jumlah nilai yang hilang pada kolom 'floor': {missing_floor}\")"
   ]
  },
  {
   "cell_type": "code",
   "execution_count": 13,
   "metadata": {},
   "outputs": [
    {
     "name": "stdout",
     "output_type": "stream",
     "text": [
      "area     35503\n",
      "floor    35503\n",
      "dtype: int64\n"
     ]
    }
   ],
   "source": [
    "# Mengubah nilai non-numeric menjadi NaN\n",
    "data['area'] = data['area'].apply(pd.to_numeric, errors='coerce')\n",
    "data['floor'] = data['floor'].apply(pd.to_numeric, errors='coerce')\n",
    "\n",
    "# Imputasi nilai yang hilang pada kolom 'area' dan 'floor' dengan nilai rata-rata\n",
    "data['area'] = data['area'].fillna(data['area'].mean())\n",
    "data['floor'] = data['floor'].fillna(data['floor'].mean())\n",
    "\n",
    "# Verifikasi nilai yang hilang telah diimputasi\n",
    "print(data[['area', 'floor']].isnull().sum())\n"
   ]
  },
  {
   "cell_type": "markdown",
   "metadata": {},
   "source": [
    "## Mengatasi Outlier"
   ]
  },
  {
   "cell_type": "code",
   "execution_count": 15,
   "metadata": {},
   "outputs": [
    {
     "name": "stdout",
     "output_type": "stream",
     "text": [
      "Jumlah Outlier: 1930\n"
     ]
    }
   ],
   "source": [
    "# Menghilangkan spasi di antara angka pada kolom 'price'\n",
    "data['price'] = data['price'].str.replace(' ', '')\n",
    "\n",
    "# Konversi kolom 'price' menjadi tipe data numerik (float)\n",
    "data['price'] = data['price'].astype(float)\n",
    "\n",
    "# Menghitung quartile pertama (Q1) dan quartile ketiga (Q3)\n",
    "Q1 = data['price'].quantile(0.25)\n",
    "Q3 = data['price'].quantile(0.75)\n",
    "\n",
    "# Menghitung rentang IQR\n",
    "IQR = Q3 - Q1\n",
    "\n",
    "# Identifikasi outlier\n",
    "outliers = data[(data['price'] < (Q1 - 1.5 * IQR)) | (data['price'] > (Q3 + 1.5 * IQR))]\n",
    "\n",
    "print(\"Jumlah Outlier:\", len(outliers))"
   ]
  },
  {
   "cell_type": "code",
   "execution_count": 16,
   "metadata": {},
   "outputs": [
    {
     "name": "stdout",
     "output_type": "stream",
     "text": [
      "Jumlah outlier setelah dihapus: 33573\n"
     ]
    }
   ],
   "source": [
    "# Menghapus outlier dari DataFrame\n",
    "data = data[~((data['price'] < (Q1 - 1.5 * IQR)) | (data['price'] > (Q3 + 1.5 * IQR)))]\n",
    "\n",
    "# Verifikasi outlier telah dihapus\n",
    "print(\"Jumlah outlier setelah dihapus:\", len(data))\n"
   ]
  },
  {
   "cell_type": "markdown",
   "metadata": {},
   "source": [
    "## Menjaga Integritas Data"
   ]
  },
  {
   "cell_type": "code",
   "execution_count": 17,
   "metadata": {},
   "outputs": [
    {
     "name": "stdout",
     "output_type": "stream",
     "text": [
      "Jumlah data unik pada kolom 'address': 9525\n",
      "Jumlah data unik pada kolom 'url': 33573\n"
     ]
    }
   ],
   "source": [
    "# Verifikasi integritas data pada kolom 'address' dan 'url'\n",
    "unique_addresses = data['address'].nunique()\n",
    "unique_urls = data['url'].nunique()\n",
    "\n",
    "print(f\"Jumlah data unik kolom 'address': {unique_addresses}\")\n",
    "print(f\"Jumlah data unik kolom 'url': {unique_urls}\")\n"
   ]
  },
  {
   "cell_type": "code",
   "execution_count": null,
   "metadata": {},
   "outputs": [],
   "source": []
  }
 ],
 "metadata": {
  "kernelspec": {
   "display_name": "Python 3",
   "language": "python",
   "name": "python3"
  },
  "language_info": {
   "codemirror_mode": {
    "name": "ipython",
    "version": 3
   },
   "file_extension": ".py",
   "mimetype": "text/x-python",
   "name": "python",
   "nbconvert_exporter": "python",
   "pygments_lexer": "ipython3",
   "version": "3.9.13"
  }
 },
 "nbformat": 4,
 "nbformat_minor": 2
}
