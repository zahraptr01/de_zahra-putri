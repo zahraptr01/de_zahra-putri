{
 "cells": [
  {
   "cell_type": "code",
   "execution_count": 1,
   "metadata": {},
   "outputs": [
    {
     "name": "stdout",
     "output_type": "stream",
     "text": [
      "Requirement already satisfied: pymysql in c:\\users\\asus\\appdata\\local\\programs\\python\\python39\\lib\\site-packages (1.1.0)\n",
      "Note: you may need to restart the kernel to use updated packages.\n"
     ]
    }
   ],
   "source": [
    "pip install pymysql"
   ]
  },
  {
   "cell_type": "code",
   "execution_count": 10,
   "metadata": {},
   "outputs": [],
   "source": [
    "import pymysql\n",
    "import pandas as pd\n",
    "import os"
   ]
  },
  {
   "cell_type": "code",
   "execution_count": 3,
   "metadata": {},
   "outputs": [],
   "source": [
    "# DB_HOST=\"104.198.221.60\"\n",
    "# DB_PORT=\"3306\"\n",
    "# DB_USER=\"root\"\n",
    "# DB_PASS='alterra-greeve'"
   ]
  },
  {
   "cell_type": "code",
   "execution_count": 21,
   "metadata": {},
   "outputs": [],
   "source": [
    "connection = pymysql.connect(host = '104.198.221.60',\n",
    "                             port = 3306,\n",
    "                             user ='root',\n",
    "                             password = 'alterra-greeve',\n",
    "                             database = 'greeve-prod')"
   ]
  },
  {
   "cell_type": "code",
   "execution_count": 31,
   "metadata": {},
   "outputs": [],
   "source": [
    "# Buat cursor\n",
    "cursor = connection.cursor()\n",
    "\n",
    "# Direktori untuk menyimpan file CSV\n",
    "output_dir = \"C:/Users/ASUS/de_zahra-putri/capstone/output\"\n",
    "if not os.path.exists(output_dir):\n",
    "    os.makedirs(output_dir)\n",
    "\n",
    "# Dapatkan daftar semua tabel\n",
    "cursor.execute(\"SHOW TABLES\")\n",
    "tables = [table[0] for table in cursor.fetchall()]"
   ]
  },
  {
   "cell_type": "code",
   "execution_count": 32,
   "metadata": {},
   "outputs": [
    {
     "name": "stdout",
     "output_type": "stream",
     "text": [
      "Data from table 'admins' saved to 'C:/Users/ASUS/de_zahra-putri/capstone/output\\admins.csv'.\n",
      "Data from table 'carts' saved to 'C:/Users/ASUS/de_zahra-putri/capstone/output\\carts.csv'.\n",
      "Data from table 'challenge_confirmation_image' saved to 'C:/Users/ASUS/de_zahra-putri/capstone/output\\challenge_confirmation_image.csv'.\n",
      "Data from table 'challenge_confirmations' saved to 'C:/Users/ASUS/de_zahra-putri/capstone/output\\challenge_confirmations.csv'.\n",
      "Data from table 'challenge_impact_categories' saved to 'C:/Users/ASUS/de_zahra-putri/capstone/output\\challenge_impact_categories.csv'.\n",
      "Data from table 'challenge_logs' saved to 'C:/Users/ASUS/de_zahra-putri/capstone/output\\challenge_logs.csv'.\n",
      "Data from table 'challenges' saved to 'C:/Users/ASUS/de_zahra-putri/capstone/output\\challenges.csv'.\n",
      "Data from table 'forums' saved to 'C:/Users/ASUS/de_zahra-putri/capstone/output\\forums.csv'.\n",
      "Data from table 'impact_categories' saved to 'C:/Users/ASUS/de_zahra-putri/capstone/output\\impact_categories.csv'.\n",
      "Data from table 'message_forums' saved to 'C:/Users/ASUS/de_zahra-putri/capstone/output\\message_forums.csv'.\n",
      "Data from table 'payment_notifications' saved to 'C:/Users/ASUS/de_zahra-putri/capstone/output\\payment_notifications.csv'.\n",
      "Data from table 'product_images' saved to 'C:/Users/ASUS/de_zahra-putri/capstone/output\\product_images.csv'.\n",
      "Data from table 'product_impact_categories' saved to 'C:/Users/ASUS/de_zahra-putri/capstone/output\\product_impact_categories.csv'.\n",
      "Data from table 'product_logs' saved to 'C:/Users/ASUS/de_zahra-putri/capstone/output\\product_logs.csv'.\n",
      "Data from table 'products' saved to 'C:/Users/ASUS/de_zahra-putri/capstone/output\\products.csv'.\n",
      "Data from table 'transaction_items' saved to 'C:/Users/ASUS/de_zahra-putri/capstone/output\\transaction_items.csv'.\n",
      "Data from table 'transactions' saved to 'C:/Users/ASUS/de_zahra-putri/capstone/output\\transactions.csv'.\n",
      "Data from table 'users' saved to 'C:/Users/ASUS/de_zahra-putri/capstone/output\\users.csv'.\n",
      "Data from table 'verify_otp' saved to 'C:/Users/ASUS/de_zahra-putri/capstone/output\\verify_otp.csv'.\n",
      "Data from table 'vouchers' saved to 'C:/Users/ASUS/de_zahra-putri/capstone/output\\vouchers.csv'.\n"
     ]
    }
   ],
   "source": [
    "# Loop untuk mengambil data dari setiap tabel\n",
    "for table_name in tables:\n",
    "    # Buat query untuk mengambil data dari tabel\n",
    "    query = f\"SELECT * FROM {table_name}\"\n",
    "    \n",
    "    # Eksekusi query\n",
    "    cursor.execute(query)\n",
    "    \n",
    "    # Ambil data dalam bentuk DataFrame\n",
    "    data = pd.DataFrame(cursor.fetchall(), columns=[col[0] for col in cursor.description])\n",
    "    \n",
    "    # Jika tabel memiliki kolom 'id', ubah namanya menjadi '{table_name}_id'\n",
    "    if 'id' in data.columns:\n",
    "        data = data.rename(columns={'id': f\"{table_name}_id\"})\n",
    "    \n",
    "    # Simpan data ke file CSV\n",
    "    output_file = os.path.join(output_dir, f\"{table_name}.csv\")\n",
    "    data.to_csv(output_file, index=False)\n",
    "    print(f\"Data from table '{table_name}' saved to '{output_file}'.\")\n",
    "\n",
    "# Tutup koneksi\n",
    "cursor.close()\n",
    "connection.close()"
   ]
  },
  {
   "cell_type": "code",
   "execution_count": 12,
   "metadata": {},
   "outputs": [],
   "source": [
    "# # Buat koneksi\n",
    "# try:\n",
    "#     conn = pymysql.connect(**connection)\n",
    "#     print(\"Connected to database!\")\n",
    "\n",
    "#     # Buat cursor\n",
    "#     cursor = conn.cursor()\n",
    "\n",
    "#     # Jalankan kueri untuk mengambil data dari tabel \"products\"\n",
    "#     cursor.execute(\"SELECT * FROM products\")\n",
    "#     products_data = cursor.fetchall()\n",
    "\n",
    "#     # Tampilkan hasil kueri\n",
    "#     print(\"Products data:\")\n",
    "#     for row in products_data:\n",
    "#         print(row)\n",
    "\n",
    "# except pymysql.err.Error as err:\n",
    "#     print(\"Error connecting to database:\", err)\n",
    "\n",
    "# finally:\n",
    "#     # Tutup koneksi\n",
    "#     if conn:\n",
    "#         conn.close()\n",
    "#         print(\"Connection closed.\")"
   ]
  }
 ],
 "metadata": {
  "kernelspec": {
   "display_name": "Python 3",
   "language": "python",
   "name": "python3"
  },
  "language_info": {
   "codemirror_mode": {
    "name": "ipython",
    "version": 3
   },
   "file_extension": ".py",
   "mimetype": "text/x-python",
   "name": "python",
   "nbconvert_exporter": "python",
   "pygments_lexer": "ipython3",
   "version": "3.9.13"
  }
 },
 "nbformat": 4,
 "nbformat_minor": 2
}
