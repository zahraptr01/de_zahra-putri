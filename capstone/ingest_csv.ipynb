{
 "cells": [
  {
   "cell_type": "code",
   "execution_count": 4,
   "metadata": {},
   "outputs": [],
   "source": [
    "import pandas as pd"
   ]
  },
  {
   "cell_type": "markdown",
   "metadata": {},
   "source": [
    "# 1. Extract Data"
   ]
  },
  {
   "cell_type": "markdown",
   "metadata": {},
   "source": [
    "## 1.1 Extract Data Transactions"
   ]
  },
  {
   "cell_type": "code",
   "execution_count": 5,
   "metadata": {},
   "outputs": [
    {
     "data": {
      "text/html": [
       "<div>\n",
       "<style scoped>\n",
       "    .dataframe tbody tr th:only-of-type {\n",
       "        vertical-align: middle;\n",
       "    }\n",
       "\n",
       "    .dataframe tbody tr th {\n",
       "        vertical-align: top;\n",
       "    }\n",
       "\n",
       "    .dataframe thead th {\n",
       "        text-align: right;\n",
       "    }\n",
       "</style>\n",
       "<table border=\"1\" class=\"dataframe\">\n",
       "  <thead>\n",
       "    <tr style=\"text-align: right;\">\n",
       "      <th></th>\n",
       "      <th>transactions_id</th>\n",
       "      <th>user_id</th>\n",
       "      <th>voucher_id</th>\n",
       "      <th>address</th>\n",
       "      <th>description</th>\n",
       "      <th>status_transactions</th>\n",
       "      <th>total</th>\n",
       "      <th>date</th>\n",
       "      <th>created_at</th>\n",
       "      <th>updated_at</th>\n",
       "      <th>deleted_at</th>\n",
       "      <th>coin dipakai di transaksi</th>\n",
       "    </tr>\n",
       "  </thead>\n",
       "  <tbody>\n",
       "    <tr>\n",
       "      <th>0</th>\n",
       "      <td>7af9d694-63bf-42cd-9afc-8b00716a0083</td>\n",
       "      <td>5dcdb121-85df-487c-8d4a-b4fd5033c9c0</td>\n",
       "      <td>2e419999-cb91-4e36-a363-289976b7e83b</td>\n",
       "      <td>Jl. Sudirman No. 123, Jakarta</td>\n",
       "      <td>deskripsi 1</td>\n",
       "      <td>Berhasil</td>\n",
       "      <td>105000</td>\n",
       "      <td>2024-06-06 8:59:59</td>\n",
       "      <td>2024-06-01 16:00:00</td>\n",
       "      <td>NaN</td>\n",
       "      <td>NaN</td>\n",
       "      <td>0</td>\n",
       "    </tr>\n",
       "    <tr>\n",
       "      <th>1</th>\n",
       "      <td>3b7e3cde-a4ff-4be5-a583-f76bcc3fdf77</td>\n",
       "      <td>5b9a23e5-e562-4fae-b11c-787e655a67d7</td>\n",
       "      <td>2e419999-cb91-4e36-a363-289976b7e83b</td>\n",
       "      <td>Jl. Gajah Mada No. 456, Surabaya</td>\n",
       "      <td>deskripsi 2</td>\n",
       "      <td>Berhasil</td>\n",
       "      <td>70000</td>\n",
       "      <td>2024-06-12 19:59:59</td>\n",
       "      <td>2024-06-01 16:00:00</td>\n",
       "      <td>NaN</td>\n",
       "      <td>NaN</td>\n",
       "      <td>0</td>\n",
       "    </tr>\n",
       "  </tbody>\n",
       "</table>\n",
       "</div>"
      ],
      "text/plain": [
       "                        transactions_id                               user_id  \\\n",
       "0  7af9d694-63bf-42cd-9afc-8b00716a0083  5dcdb121-85df-487c-8d4a-b4fd5033c9c0   \n",
       "1  3b7e3cde-a4ff-4be5-a583-f76bcc3fdf77  5b9a23e5-e562-4fae-b11c-787e655a67d7   \n",
       "\n",
       "                             voucher_id                           address  \\\n",
       "0  2e419999-cb91-4e36-a363-289976b7e83b     Jl. Sudirman No. 123, Jakarta   \n",
       "1  2e419999-cb91-4e36-a363-289976b7e83b  Jl. Gajah Mada No. 456, Surabaya   \n",
       "\n",
       "   description status_transactions   total                 date  \\\n",
       "0  deskripsi 1            Berhasil  105000   2024-06-06 8:59:59   \n",
       "1  deskripsi 2            Berhasil   70000  2024-06-12 19:59:59   \n",
       "\n",
       "            created_at  updated_at  deleted_at  coin dipakai di transaksi  \n",
       "0  2024-06-01 16:00:00         NaN         NaN                          0  \n",
       "1  2024-06-01 16:00:00         NaN         NaN                          0  "
      ]
     },
     "execution_count": 5,
     "metadata": {},
     "output_type": "execute_result"
    }
   ],
   "source": [
    "df_transactions = pd.read_csv('C:/Users/ASUS/de_zahra-putri/capstone/Data Dummy Greeve - Transactions.csv')\n",
    "# df_transactions = pd.read_csv('C:/Users/ASUS/de_zahra-putri/capstone/Data Dummy Greeve - Transactions.csv', skiprows=4)\n",
    "df_transactions.head(2)"
   ]
  },
  {
   "cell_type": "markdown",
   "metadata": {},
   "source": [
    "## 1.2 Extract Data Users"
   ]
  },
  {
   "cell_type": "code",
   "execution_count": 6,
   "metadata": {},
   "outputs": [
    {
     "data": {
      "text/html": [
       "<div>\n",
       "<style scoped>\n",
       "    .dataframe tbody tr th:only-of-type {\n",
       "        vertical-align: middle;\n",
       "    }\n",
       "\n",
       "    .dataframe tbody tr th {\n",
       "        vertical-align: top;\n",
       "    }\n",
       "\n",
       "    .dataframe thead th {\n",
       "        text-align: right;\n",
       "    }\n",
       "</style>\n",
       "<table border=\"1\" class=\"dataframe\">\n",
       "  <thead>\n",
       "    <tr style=\"text-align: right;\">\n",
       "      <th></th>\n",
       "      <th>user_id</th>\n",
       "      <th>username</th>\n",
       "      <th>password</th>\n",
       "      <th>name</th>\n",
       "      <th>email</th>\n",
       "      <th>Address</th>\n",
       "      <th>gender</th>\n",
       "      <th>phone</th>\n",
       "      <th>exp</th>\n",
       "      <th>coin</th>\n",
       "      <th>avatar_url</th>\n",
       "      <th>created_at</th>\n",
       "      <th>deleted_at</th>\n",
       "    </tr>\n",
       "  </thead>\n",
       "  <tbody>\n",
       "    <tr>\n",
       "      <th>0</th>\n",
       "      <td>5dcdb121-85df-487c-8d4a-b4fd5033c9c0</td>\n",
       "      <td>oscar.simanjuntak</td>\n",
       "      <td>secret123</td>\n",
       "      <td>Oscar Simanjuntak</td>\n",
       "      <td>oscar.simanjuntak@example.com</td>\n",
       "      <td>Jl. Kamboja No. 15, Jayapura</td>\n",
       "      <td>Laki-laki</td>\n",
       "      <td>81234567804</td>\n",
       "      <td>350</td>\n",
       "      <td>140</td>\n",
       "      <td>https://storage.googleapis.com/alterra-greeve/...</td>\n",
       "      <td>2024-06-01 16:00:00</td>\n",
       "      <td>NaN</td>\n",
       "    </tr>\n",
       "    <tr>\n",
       "      <th>1</th>\n",
       "      <td>5b9a23e5-e562-4fae-b11c-787e655a67d7</td>\n",
       "      <td>ahmad.fauzi</td>\n",
       "      <td>password123</td>\n",
       "      <td>Ahmad Fauzi</td>\n",
       "      <td>ahmad.fauzi@example.com</td>\n",
       "      <td>Jl. Merdeka No. 1, Jakarta</td>\n",
       "      <td>Laki-laki</td>\n",
       "      <td>81234567890</td>\n",
       "      <td>200</td>\n",
       "      <td>129</td>\n",
       "      <td>https://storage.googleapis.com/alterra-greeve/...</td>\n",
       "      <td>2024-06-01 16:00:00</td>\n",
       "      <td>NaN</td>\n",
       "    </tr>\n",
       "  </tbody>\n",
       "</table>\n",
       "</div>"
      ],
      "text/plain": [
       "                                user_id           username     password  \\\n",
       "0  5dcdb121-85df-487c-8d4a-b4fd5033c9c0  oscar.simanjuntak    secret123   \n",
       "1  5b9a23e5-e562-4fae-b11c-787e655a67d7        ahmad.fauzi  password123   \n",
       "\n",
       "                name                          email  \\\n",
       "0  Oscar Simanjuntak  oscar.simanjuntak@example.com   \n",
       "1        Ahmad Fauzi        ahmad.fauzi@example.com   \n",
       "\n",
       "                        Address     gender        phone  exp  coin  \\\n",
       "0  Jl. Kamboja No. 15, Jayapura  Laki-laki  81234567804  350   140   \n",
       "1    Jl. Merdeka No. 1, Jakarta  Laki-laki  81234567890  200   129   \n",
       "\n",
       "                                          avatar_url           created_at  \\\n",
       "0  https://storage.googleapis.com/alterra-greeve/...  2024-06-01 16:00:00   \n",
       "1  https://storage.googleapis.com/alterra-greeve/...  2024-06-01 16:00:00   \n",
       "\n",
       "   deleted_at  \n",
       "0         NaN  \n",
       "1         NaN  "
      ]
     },
     "execution_count": 6,
     "metadata": {},
     "output_type": "execute_result"
    }
   ],
   "source": [
    "df_users = pd.read_csv('C:/Users/ASUS/de_zahra-putri/capstone/Data Dummy Greeve - Users.csv')\n",
    "df_users.head(2)"
   ]
  },
  {
   "cell_type": "markdown",
   "metadata": {},
   "source": [
    "## 1.3 Extract Data Impact Categories"
   ]
  },
  {
   "cell_type": "code",
   "execution_count": 7,
   "metadata": {},
   "outputs": [
    {
     "data": {
      "text/html": [
       "<div>\n",
       "<style scoped>\n",
       "    .dataframe tbody tr th:only-of-type {\n",
       "        vertical-align: middle;\n",
       "    }\n",
       "\n",
       "    .dataframe tbody tr th {\n",
       "        vertical-align: top;\n",
       "    }\n",
       "\n",
       "    .dataframe thead th {\n",
       "        text-align: right;\n",
       "    }\n",
       "</style>\n",
       "<table border=\"1\" class=\"dataframe\">\n",
       "  <thead>\n",
       "    <tr style=\"text-align: right;\">\n",
       "      <th></th>\n",
       "      <th>impact_categories_id</th>\n",
       "      <th>name</th>\n",
       "      <th>impact_point</th>\n",
       "      <th>icon_url</th>\n",
       "      <th>created_at</th>\n",
       "      <th>updated_at</th>\n",
       "      <th>deleted_at</th>\n",
       "    </tr>\n",
       "  </thead>\n",
       "  <tbody>\n",
       "    <tr>\n",
       "      <th>0</th>\n",
       "      <td>a8089bc1-de1c-4eaf-a1fd-a2a6bc3028e2</td>\n",
       "      <td>Berkelanjutan</td>\n",
       "      <td>50</td>\n",
       "      <td>NaN</td>\n",
       "      <td>2024-06-01 16:00:00</td>\n",
       "      <td>NaN</td>\n",
       "      <td>NaN</td>\n",
       "    </tr>\n",
       "    <tr>\n",
       "      <th>1</th>\n",
       "      <td>1350c308-05e7-4d49-a5ad-3e92b00ecba9</td>\n",
       "      <td>Ramah Lingkungan</td>\n",
       "      <td>40</td>\n",
       "      <td>NaN</td>\n",
       "      <td>2024-06-01 16:00:00</td>\n",
       "      <td>NaN</td>\n",
       "      <td>NaN</td>\n",
       "    </tr>\n",
       "  </tbody>\n",
       "</table>\n",
       "</div>"
      ],
      "text/plain": [
       "                   impact_categories_id              name  impact_point  \\\n",
       "0  a8089bc1-de1c-4eaf-a1fd-a2a6bc3028e2     Berkelanjutan            50   \n",
       "1  1350c308-05e7-4d49-a5ad-3e92b00ecba9  Ramah Lingkungan            40   \n",
       "\n",
       "   icon_url           created_at  updated_at  deleted_at  \n",
       "0       NaN  2024-06-01 16:00:00         NaN         NaN  \n",
       "1       NaN  2024-06-01 16:00:00         NaN         NaN  "
      ]
     },
     "execution_count": 7,
     "metadata": {},
     "output_type": "execute_result"
    }
   ],
   "source": [
    "df_impact_categories = pd.read_csv('C:/Users/ASUS/de_zahra-putri/capstone/Data Dummy Greeve - Impact Categories.csv')\n",
    "df_impact_categories.head(2)"
   ]
  },
  {
   "cell_type": "markdown",
   "metadata": {},
   "source": [
    "## 1.4 Extract Data Products"
   ]
  },
  {
   "cell_type": "code",
   "execution_count": 8,
   "metadata": {},
   "outputs": [
    {
     "data": {
      "text/html": [
       "<div>\n",
       "<style scoped>\n",
       "    .dataframe tbody tr th:only-of-type {\n",
       "        vertical-align: middle;\n",
       "    }\n",
       "\n",
       "    .dataframe tbody tr th {\n",
       "        vertical-align: top;\n",
       "    }\n",
       "\n",
       "    .dataframe thead th {\n",
       "        text-align: right;\n",
       "    }\n",
       "</style>\n",
       "<table border=\"1\" class=\"dataframe\">\n",
       "  <thead>\n",
       "    <tr style=\"text-align: right;\">\n",
       "      <th></th>\n",
       "      <th>products_id</th>\n",
       "      <th>name</th>\n",
       "      <th>description</th>\n",
       "      <th>coin</th>\n",
       "      <th>price</th>\n",
       "      <th>product_image</th>\n",
       "      <th>impact_categories_id</th>\n",
       "      <th>created_at</th>\n",
       "      <th>updated_at</th>\n",
       "      <th>deleted_at</th>\n",
       "    </tr>\n",
       "  </thead>\n",
       "  <tbody>\n",
       "    <tr>\n",
       "      <th>0</th>\n",
       "      <td>7dcf0f20-d1c6-4d8a-8cf5-de60f5c420be</td>\n",
       "      <td>Sedotan yang Dapat Digunakan Kembali</td>\n",
       "      <td>Satu set sedotan stainless steel dengan sikat ...</td>\n",
       "      <td>5</td>\n",
       "      <td>15000</td>\n",
       "      <td>\"https://storage.googleapis.com/alterra-greeve...</td>\n",
       "      <td>\"3ecbf571-79b6-452b-8626-c45e1a2ab671\"</td>\n",
       "      <td>2024-06-01 16:00:00</td>\n",
       "      <td>NaN</td>\n",
       "      <td>NaN</td>\n",
       "    </tr>\n",
       "    <tr>\n",
       "      <th>1</th>\n",
       "      <td>7fbf0a60-57bf-419f-900a-a993d3168cec</td>\n",
       "      <td>Tas Katun Organik</td>\n",
       "      <td>Tas ramah lingkungan yang terbuat dari 100% ka...</td>\n",
       "      <td>10</td>\n",
       "      <td>45000</td>\n",
       "      <td>\"https://storage.googleapis.com/alterra-greeve...</td>\n",
       "      <td>\"2d9c8fd2-8104-470f-a8d3-4ff34993fabd\", \"3ecbf...</td>\n",
       "      <td>2024-06-01 16:00:00</td>\n",
       "      <td>NaN</td>\n",
       "      <td>NaN</td>\n",
       "    </tr>\n",
       "  </tbody>\n",
       "</table>\n",
       "</div>"
      ],
      "text/plain": [
       "                            products_id                                  name  \\\n",
       "0  7dcf0f20-d1c6-4d8a-8cf5-de60f5c420be  Sedotan yang Dapat Digunakan Kembali   \n",
       "1  7fbf0a60-57bf-419f-900a-a993d3168cec                     Tas Katun Organik   \n",
       "\n",
       "                                         description  coin  price  \\\n",
       "0  Satu set sedotan stainless steel dengan sikat ...     5  15000   \n",
       "1  Tas ramah lingkungan yang terbuat dari 100% ka...    10  45000   \n",
       "\n",
       "                                       product_image  \\\n",
       "0  \"https://storage.googleapis.com/alterra-greeve...   \n",
       "1  \"https://storage.googleapis.com/alterra-greeve...   \n",
       "\n",
       "                                impact_categories_id           created_at  \\\n",
       "0             \"3ecbf571-79b6-452b-8626-c45e1a2ab671\"  2024-06-01 16:00:00   \n",
       "1  \"2d9c8fd2-8104-470f-a8d3-4ff34993fabd\", \"3ecbf...  2024-06-01 16:00:00   \n",
       "\n",
       "   updated_at  deleted_at  \n",
       "0         NaN         NaN  \n",
       "1         NaN         NaN  "
      ]
     },
     "execution_count": 8,
     "metadata": {},
     "output_type": "execute_result"
    }
   ],
   "source": [
    "df_products = pd.read_csv('C:/Users/ASUS/de_zahra-putri/capstone/Data Dummy Greeve - Products.csv')\n",
    "df_products.head(2)"
   ]
  },
  {
   "cell_type": "markdown",
   "metadata": {},
   "source": [
    "## 1.5 Extract Data Voucher"
   ]
  },
  {
   "cell_type": "code",
   "execution_count": 9,
   "metadata": {},
   "outputs": [
    {
     "data": {
      "text/html": [
       "<div>\n",
       "<style scoped>\n",
       "    .dataframe tbody tr th:only-of-type {\n",
       "        vertical-align: middle;\n",
       "    }\n",
       "\n",
       "    .dataframe tbody tr th {\n",
       "        vertical-align: top;\n",
       "    }\n",
       "\n",
       "    .dataframe thead th {\n",
       "        text-align: right;\n",
       "    }\n",
       "</style>\n",
       "<table border=\"1\" class=\"dataframe\">\n",
       "  <thead>\n",
       "    <tr style=\"text-align: right;\">\n",
       "      <th></th>\n",
       "      <th>voucher_id</th>\n",
       "      <th>name</th>\n",
       "      <th>code</th>\n",
       "      <th>discount</th>\n",
       "      <th>description</th>\n",
       "      <th>expired_at</th>\n",
       "      <th>created_at</th>\n",
       "      <th>update_at</th>\n",
       "      <th>deleted_at</th>\n",
       "    </tr>\n",
       "  </thead>\n",
       "  <tbody>\n",
       "    <tr>\n",
       "      <th>0</th>\n",
       "      <td>84c65b94-163f-4880-badd-ad10ff8bfead</td>\n",
       "      <td>Natal Ceria</td>\n",
       "      <td>NATAL2024</td>\n",
       "      <td>20000</td>\n",
       "      <td>Diskon khusus untuk produk ramah lingkungan</td>\n",
       "      <td>2024-12-25 23:59:59</td>\n",
       "      <td>2024-06-01 16:00:00</td>\n",
       "      <td>NaN</td>\n",
       "      <td>NaN</td>\n",
       "    </tr>\n",
       "    <tr>\n",
       "      <th>1</th>\n",
       "      <td>f1098036-cfa6-48ae-882c-00726d0c5d57</td>\n",
       "      <td>Super Bundle Lebaran</td>\n",
       "      <td>PAKETLEBARAN</td>\n",
       "      <td>15%</td>\n",
       "      <td>Paket penawaran barang-barang ramah lingkungan...</td>\n",
       "      <td>2025-05-15 23:59:59</td>\n",
       "      <td>2024-06-01 16:00:00</td>\n",
       "      <td>NaN</td>\n",
       "      <td>NaN</td>\n",
       "    </tr>\n",
       "  </tbody>\n",
       "</table>\n",
       "</div>"
      ],
      "text/plain": [
       "                             voucher_id                  name          code  \\\n",
       "0  84c65b94-163f-4880-badd-ad10ff8bfead           Natal Ceria     NATAL2024   \n",
       "1  f1098036-cfa6-48ae-882c-00726d0c5d57  Super Bundle Lebaran  PAKETLEBARAN   \n",
       "\n",
       "  discount                                        description  \\\n",
       "0    20000        Diskon khusus untuk produk ramah lingkungan   \n",
       "1      15%  Paket penawaran barang-barang ramah lingkungan...   \n",
       "\n",
       "            expired_at           created_at  update_at  deleted_at  \n",
       "0  2024-12-25 23:59:59  2024-06-01 16:00:00        NaN         NaN  \n",
       "1  2025-05-15 23:59:59  2024-06-01 16:00:00        NaN         NaN  "
      ]
     },
     "execution_count": 9,
     "metadata": {},
     "output_type": "execute_result"
    }
   ],
   "source": [
    "df_voucher = pd.read_csv('C:/Users/ASUS/de_zahra-putri/capstone/Data Dummy Greeve - Voucher.csv')\n",
    "df_voucher.head(2)"
   ]
  },
  {
   "cell_type": "code",
   "execution_count": 10,
   "metadata": {},
   "outputs": [
    {
     "data": {
      "text/html": [
       "<div>\n",
       "<style scoped>\n",
       "    .dataframe tbody tr th:only-of-type {\n",
       "        vertical-align: middle;\n",
       "    }\n",
       "\n",
       "    .dataframe tbody tr th {\n",
       "        vertical-align: top;\n",
       "    }\n",
       "\n",
       "    .dataframe thead th {\n",
       "        text-align: right;\n",
       "    }\n",
       "</style>\n",
       "<table border=\"1\" class=\"dataframe\">\n",
       "  <thead>\n",
       "    <tr style=\"text-align: right;\">\n",
       "      <th></th>\n",
       "      <th>transactions_items_id</th>\n",
       "      <th>transactions_id</th>\n",
       "      <th>products_id</th>\n",
       "      <th>qty</th>\n",
       "      <th>created_at</th>\n",
       "      <th>updated_at</th>\n",
       "      <th>deleted_at</th>\n",
       "    </tr>\n",
       "  </thead>\n",
       "  <tbody>\n",
       "    <tr>\n",
       "      <th>0</th>\n",
       "      <td>ec4de6df-a5a4-412b-ac92-02eac50a13f6</td>\n",
       "      <td>7af9d694-63bf-42cd-9afc-8b00716a0083</td>\n",
       "      <td>7dcf0f20-d1c6-4d8a-8cf5-de60f5c420be</td>\n",
       "      <td>1</td>\n",
       "      <td>2024-06-01 16:00:00</td>\n",
       "      <td>NaN</td>\n",
       "      <td>NaN</td>\n",
       "    </tr>\n",
       "    <tr>\n",
       "      <th>1</th>\n",
       "      <td>d3e0425d-e597-4448-8016-53c4dd88c6ee</td>\n",
       "      <td>7af9d694-63bf-42cd-9afc-8b00716a0083</td>\n",
       "      <td>7fbf0a60-57bf-419f-900a-a993d3168cec</td>\n",
       "      <td>2</td>\n",
       "      <td>2024-06-01 16:00:00</td>\n",
       "      <td>NaN</td>\n",
       "      <td>NaN</td>\n",
       "    </tr>\n",
       "  </tbody>\n",
       "</table>\n",
       "</div>"
      ],
      "text/plain": [
       "                  transactions_items_id                       transactions_id  \\\n",
       "0  ec4de6df-a5a4-412b-ac92-02eac50a13f6  7af9d694-63bf-42cd-9afc-8b00716a0083   \n",
       "1  d3e0425d-e597-4448-8016-53c4dd88c6ee  7af9d694-63bf-42cd-9afc-8b00716a0083   \n",
       "\n",
       "                            products_id  qty           created_at  updated_at  \\\n",
       "0  7dcf0f20-d1c6-4d8a-8cf5-de60f5c420be    1  2024-06-01 16:00:00         NaN   \n",
       "1  7fbf0a60-57bf-419f-900a-a993d3168cec    2  2024-06-01 16:00:00         NaN   \n",
       "\n",
       "   deleted_at  \n",
       "0         NaN  \n",
       "1         NaN  "
      ]
     },
     "execution_count": 10,
     "metadata": {},
     "output_type": "execute_result"
    }
   ],
   "source": [
    "df_transactions_items = pd.read_csv('C:/Users/ASUS/de_zahra-putri/capstone/Data Dummy Greeve - Transaction_Items.csv')\n",
    "df_transactions_items.head(2)"
   ]
  },
  {
   "cell_type": "code",
   "execution_count": 11,
   "metadata": {},
   "outputs": [],
   "source": [
    "df_list = [df_transactions, df_users, df_impact_categories, df_products, df_voucher, df_transactions_items]"
   ]
  },
  {
   "cell_type": "code",
   "execution_count": 12,
   "metadata": {},
   "outputs": [],
   "source": [
    "df_kolom_transactions = df_transactions[[\"transactions_id\", \"user_id\", \"voucher_id\", \"address\", \"status_transactions\", \"total\", \"date\"]]\n",
    "df_kolom_users = df_users[[\"user_id\", \"username\", \"name\", \"email\", \"Address\", \"gender\", \"exp\", \"coin\"]]\n",
    "df_kolom_impact_categories = df_impact_categories[[\"impact_categories_id\", \"name\", \"impact_point\"]]\n",
    "df_kolom_products = df_products[[\"products_id\", \"name\", \"coin\", \"price\", \"impact_categories_id\"]]\n",
    "df_kolom_voucher = df_voucher[[\"voucher_id\", \"name\", \"code\", \"discount\"]]\n",
    "df_kolom_transactions_items = df_transactions_items[[\"transactions_items_id\", \"transactions_id\", \"products_id\", \"qty\", \"created_at\", \"updated_at\", \"deleted_at\"]]\n"
   ]
  },
  {
   "cell_type": "markdown",
   "metadata": {},
   "source": [
    "# 2. Transform"
   ]
  },
  {
   "cell_type": "code",
   "execution_count": 13,
   "metadata": {},
   "outputs": [],
   "source": [
    "transactions_facts = pd.merge(df_kolom_transactions, df_kolom_users, on=\"user_id\", how = 'left')\n",
    "transactions_facts = pd.merge(transactions_facts, df_kolom_voucher, on=\"voucher_id\", how = 'left')\n",
    "transactions_facts = pd.merge(transactions_facts, df_kolom_transactions_items, on=\"transactions_id\", how='left')\n",
    "transactions_facts = pd.merge(transactions_facts, df_kolom_products, on=\"products_id\", how='left')"
   ]
  },
  {
   "cell_type": "code",
   "execution_count": 14,
   "metadata": {},
   "outputs": [
    {
     "name": "stdout",
     "output_type": "stream",
     "text": [
      "<class 'pandas.core.frame.DataFrame'>\n",
      "RangeIndex: 25 entries, 0 to 24\n",
      "Data columns (total 27 columns):\n",
      " #   Column                 Non-Null Count  Dtype  \n",
      "---  ------                 --------------  -----  \n",
      " 0   transactions_id        25 non-null     object \n",
      " 1   user_id                25 non-null     object \n",
      " 2   voucher_id             25 non-null     object \n",
      " 3   address                25 non-null     object \n",
      " 4   status_transactions    25 non-null     object \n",
      " 5   total                  25 non-null     int64  \n",
      " 6   date                   25 non-null     object \n",
      " 7   username               25 non-null     object \n",
      " 8   name_x                 25 non-null     object \n",
      " 9   email                  25 non-null     object \n",
      " 10  Address                25 non-null     object \n",
      " 11  gender                 25 non-null     object \n",
      " 12  exp                    25 non-null     int64  \n",
      " 13  coin_x                 25 non-null     int64  \n",
      " 14  name_y                 25 non-null     object \n",
      " 15  code                   25 non-null     object \n",
      " 16  discount               25 non-null     object \n",
      " 17  transactions_items_id  25 non-null     object \n",
      " 18  products_id            25 non-null     object \n",
      " 19  qty                    25 non-null     int64  \n",
      " 20  created_at             25 non-null     object \n",
      " 21  updated_at             0 non-null      float64\n",
      " 22  deleted_at             0 non-null      float64\n",
      " 23  name                   25 non-null     object \n",
      " 24  coin_y                 25 non-null     int64  \n",
      " 25  price                  25 non-null     int64  \n",
      " 26  impact_categories_id   25 non-null     object \n",
      "dtypes: float64(2), int64(6), object(19)\n",
      "memory usage: 5.4+ KB\n"
     ]
    }
   ],
   "source": [
    "transactions_facts.info()"
   ]
  },
  {
   "cell_type": "code",
   "execution_count": 15,
   "metadata": {},
   "outputs": [],
   "source": [
    "transactions_facts = transactions_facts.drop(columns=[\"transactions_items_id\", \"created_at\", \"updated_at\", \n",
    "                                                      \"deleted_at\", \"name\", \"coin_y\"])"
   ]
  },
  {
   "cell_type": "code",
   "execution_count": 131,
   "metadata": {},
   "outputs": [
    {
     "name": "stdout",
     "output_type": "stream",
     "text": [
      "<class 'pandas.core.frame.DataFrame'>\n",
      "RangeIndex: 25 entries, 0 to 24\n",
      "Data columns (total 7 columns):\n",
      " #   Column                Non-Null Count  Dtype \n",
      "---  ------                --------------  ----- \n",
      " 0   transactions_id       25 non-null     object\n",
      " 1   user_id               25 non-null     object\n",
      " 2   voucher_id            25 non-null     object\n",
      " 3   products_id           25 non-null     object\n",
      " 4   qty                   25 non-null     int64 \n",
      " 5   price                 25 non-null     int64 \n",
      " 6   impact_categories_id  25 non-null     object\n",
      "dtypes: int64(2), object(5)\n",
      "memory usage: 1.5+ KB\n"
     ]
    }
   ],
   "source": [
    "transactions_facts.info()"
   ]
  },
  {
   "cell_type": "code",
   "execution_count": 132,
   "metadata": {},
   "outputs": [
    {
     "data": {
      "text/plain": [
       "transactions_id         15\n",
       "user_id                  6\n",
       "voucher_id               6\n",
       "products_id             25\n",
       "qty                      3\n",
       "price                   21\n",
       "impact_categories_id    18\n",
       "dtype: int64"
      ]
     },
     "execution_count": 132,
     "metadata": {},
     "output_type": "execute_result"
    }
   ],
   "source": [
    "transactions_facts.nunique()"
   ]
  },
  {
   "cell_type": "code",
   "execution_count": 133,
   "metadata": {},
   "outputs": [],
   "source": [
    "# Fungsi mengecek Missing Values dan Duplicate Data\n",
    "def check_and_clean_data(df):\n",
    "    # Cek missing values\n",
    "    print(\"Missing values:\")\n",
    "    print(df.isnull().sum())\n",
    "    \n",
    "    # Cek duplicate data\n",
    "    print(\"\\nDuplicate data:\")\n",
    "    print(df[df.duplicated()].shape[0])\n",
    "    \n",
    "    # Hapus duplicate data\n",
    "    df = df.drop_duplicates()\n",
    "    print(\"\\nData setelah dihapus duplicate:\")\n",
    "    print(df.shape)\n",
    "    \n",
    "    return df"
   ]
  },
  {
   "cell_type": "code",
   "execution_count": 3,
   "metadata": {},
   "outputs": [
    {
     "ename": "NameError",
     "evalue": "name 'check_and_clean_data' is not defined",
     "output_type": "error",
     "traceback": [
      "\u001b[1;31m---------------------------------------------------------------------------\u001b[0m",
      "\u001b[1;31mNameError\u001b[0m                                 Traceback (most recent call last)",
      "Cell \u001b[1;32mIn[3], line 1\u001b[0m\n\u001b[1;32m----> 1\u001b[0m transactions_facts \u001b[38;5;241m=\u001b[39m \u001b[43mcheck_and_clean_data\u001b[49m(transactions_facts)\n",
      "\u001b[1;31mNameError\u001b[0m: name 'check_and_clean_data' is not defined"
     ]
    }
   ],
   "source": [
    "transactions_facts = check_and_clean_data(transactions_facts)"
   ]
  },
  {
   "cell_type": "code",
   "execution_count": 2,
   "metadata": {},
   "outputs": [
    {
     "ename": "NameError",
     "evalue": "name 'transactions_facts' is not defined",
     "output_type": "error",
     "traceback": [
      "\u001b[1;31m---------------------------------------------------------------------------\u001b[0m",
      "\u001b[1;31mNameError\u001b[0m                                 Traceback (most recent call last)",
      "Cell \u001b[1;32mIn[2], line 1\u001b[0m\n\u001b[1;32m----> 1\u001b[0m \u001b[43mtransactions_facts\u001b[49m\n",
      "\u001b[1;31mNameError\u001b[0m: name 'transactions_facts' is not defined"
     ]
    }
   ],
   "source": [
    "transactions_facts"
   ]
  },
  {
   "cell_type": "code",
   "execution_count": null,
   "metadata": {},
   "outputs": [],
   "source": []
  }
 ],
 "metadata": {
  "kernelspec": {
   "display_name": "Python 3",
   "language": "python",
   "name": "python3"
  },
  "language_info": {
   "codemirror_mode": {
    "name": "ipython",
    "version": 3
   },
   "file_extension": ".py",
   "mimetype": "text/x-python",
   "name": "python",
   "nbconvert_exporter": "python",
   "pygments_lexer": "ipython3",
   "version": "3.9.13"
  }
 },
 "nbformat": 4,
 "nbformat_minor": 2
}
