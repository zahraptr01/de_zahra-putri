{
 "cells": [
  {
   "cell_type": "code",
   "execution_count": 1,
   "metadata": {},
   "outputs": [
    {
     "name": "stdout",
     "output_type": "stream",
     "text": [
      "Requirement already satisfied: pandas in c:\\users\\asus\\appdata\\local\\programs\\python\\python39\\lib\\site-packages (2.2.1)\n",
      "Requirement already satisfied: tzdata>=2022.7 in c:\\users\\asus\\appdata\\local\\programs\\python\\python39\\lib\\site-packages (from pandas) (2024.1)\n",
      "Requirement already satisfied: numpy<2,>=1.22.4 in c:\\users\\asus\\appdata\\local\\programs\\python\\python39\\lib\\site-packages (from pandas) (1.26.4)\n",
      "Requirement already satisfied: pytz>=2020.1 in c:\\users\\asus\\appdata\\local\\programs\\python\\python39\\lib\\site-packages (from pandas) (2024.1)\n",
      "Requirement already satisfied: python-dateutil>=2.8.2 in c:\\users\\asus\\appdata\\roaming\\python\\python39\\site-packages (from pandas) (2.9.0.post0)\n",
      "Requirement already satisfied: six>=1.5 in c:\\users\\asus\\appdata\\roaming\\python\\python39\\site-packages (from python-dateutil>=2.8.2->pandas) (1.16.0)\n",
      "Note: you may need to restart the kernel to use updated packages.\n"
     ]
    },
    {
     "name": "stderr",
     "output_type": "stream",
     "text": [
      "WARNING: You are using pip version 22.0.4; however, version 24.0 is available.\n",
      "You should consider upgrading via the 'c:\\Users\\ASUS\\AppData\\Local\\Programs\\Python\\Python39\\python.exe -m pip install --upgrade pip' command.\n"
     ]
    }
   ],
   "source": [
    "pip install pandas"
   ]
  },
  {
   "cell_type": "code",
   "execution_count": 2,
   "metadata": {},
   "outputs": [],
   "source": [
    "import pandas as pd"
   ]
  },
  {
   "cell_type": "markdown",
   "metadata": {},
   "source": [
    "## 1. Ekstrak data transaksi e-commerce dan data produk"
   ]
  },
  {
   "cell_type": "code",
   "execution_count": 3,
   "metadata": {},
   "outputs": [
    {
     "name": "stdout",
     "output_type": "stream",
     "text": [
      "   Transaction ID  User ID          Item Name  Quantity  Value (USD)   Status\n",
      "0               1     1001         Smartphone         1       799.99  success\n",
      "1               2     1002         Headphones         2       399.98  success\n",
      "2               3     1003             Laptop         1       999.99  success\n",
      "3               4     1004  Bluetooth Speaker         1        79.99  success\n",
      "4               5     1005         Smartwatch         1       299.99  pending\n"
     ]
    }
   ],
   "source": [
    "transaction_df = pd.read_csv('transactions.csv')\n",
    "print(transaction_df.head())"
   ]
  },
  {
   "cell_type": "code",
   "execution_count": 9,
   "metadata": {},
   "outputs": [
    {
     "name": "stdout",
     "output_type": "stream",
     "text": [
      "Requirement already satisfied: openpyxl in c:\\users\\asus\\appdata\\local\\programs\\python\\python39\\lib\\site-packages (3.1.2)\n",
      "Requirement already satisfied: et-xmlfile in c:\\users\\asus\\appdata\\local\\programs\\python\\python39\\lib\\site-packages (from openpyxl) (1.1.0)\n",
      "Note: you may need to restart the kernel to use updated packages.\n"
     ]
    },
    {
     "name": "stderr",
     "output_type": "stream",
     "text": [
      "WARNING: You are using pip version 22.0.4; however, version 24.0 is available.\n",
      "You should consider upgrading via the 'c:\\Users\\ASUS\\AppData\\Local\\Programs\\Python\\Python39\\python.exe -m pip install --upgrade pip' command.\n"
     ]
    }
   ],
   "source": [
    "pip install openpyxl"
   ]
  },
  {
   "cell_type": "code",
   "execution_count": 10,
   "metadata": {},
   "outputs": [
    {
     "name": "stdout",
     "output_type": "stream",
     "text": [
      "   ID       Product Name     Category  \\\n",
      "0   1             Laptop  Electronics   \n",
      "1   2         Smartphone  Electronics   \n",
      "2   3         Headphones  Electronics   \n",
      "3   4         Smartwatch  Electronics   \n",
      "4   5  Bluetooth Speaker  Electronics   \n",
      "\n",
      "                                         Description   Price  \n",
      "0  A powerful laptop with high performance and lo...  999.99  \n",
      "1  A sleek smartphone with advanced features and ...  799.99  \n",
      "2  High-quality headphones with noise-canceling t...  199.99  \n",
      "3                 A smartwatch with fitness tracking  299.99  \n",
      "4  A portable Bluetooth speaker with deep bass an...   79.99  \n"
     ]
    }
   ],
   "source": [
    "producs_df = pd.read_excel('products.xlsx')\n",
    "print(producs_df.head())"
   ]
  },
  {
   "cell_type": "markdown",
   "metadata": {},
   "source": [
    "## 2. Menggunakan pymsql untuk import data pelanggan dari database MySQL"
   ]
  },
  {
   "cell_type": "code",
   "execution_count": 11,
   "metadata": {},
   "outputs": [
    {
     "name": "stdout",
     "output_type": "stream",
     "text": [
      "Requirement already satisfied: pymysql in c:\\users\\asus\\appdata\\local\\programs\\python\\python39\\lib\\site-packages (1.1.0)\n",
      "Note: you may need to restart the kernel to use updated packages.\n"
     ]
    },
    {
     "name": "stderr",
     "output_type": "stream",
     "text": [
      "WARNING: You are using pip version 22.0.4; however, version 24.0 is available.\n",
      "You should consider upgrading via the 'c:\\Users\\ASUS\\AppData\\Local\\Programs\\Python\\Python39\\python.exe -m pip install --upgrade pip' command.\n"
     ]
    }
   ],
   "source": [
    "pip install pymysql"
   ]
  },
  {
   "cell_type": "code",
   "execution_count": 12,
   "metadata": {},
   "outputs": [],
   "source": [
    "import pymysql"
   ]
  },
  {
   "cell_type": "code",
   "execution_count": 15,
   "metadata": {},
   "outputs": [],
   "source": [
    "connection = pymysql.connect(host = 'localhost',\n",
    "                             user ='root',\n",
    "                             password = '',\n",
    "                             database = 'data_transaction')"
   ]
  },
  {
   "cell_type": "code",
   "execution_count": 20,
   "metadata": {},
   "outputs": [],
   "source": [
    "query = \"SELECT * FROM data_transaction.customers\""
   ]
  },
  {
   "cell_type": "code",
   "execution_count": 21,
   "metadata": {},
   "outputs": [],
   "source": [
    "# result = cursor.fetchall()"
   ]
  },
  {
   "cell_type": "code",
   "execution_count": 22,
   "metadata": {},
   "outputs": [
    {
     "name": "stdout",
     "output_type": "stream",
     "text": [
      "   ID             name                        email  \\\n",
      "0   1         John Doe         john.doe@example.com   \n",
      "1   2       Jane Smith       jane.smith@example.com   \n",
      "2   3  Michael Johnson  michael.johnson@example.com   \n",
      "3   4      Emily Brown      emily.brown@example.com   \n",
      "4   5   William Taylor   william.taylor@example.com   \n",
      "\n",
      "                       address  \n",
      "0   123 Main St, City, Country  \n",
      "1    456 Elm St, City, Country  \n",
      "2    789 Oak St, City, Country  \n",
      "3   101 Pine St, City, Country  \n",
      "4  202 Maple St, City, Country  \n"
     ]
    },
    {
     "name": "stderr",
     "output_type": "stream",
     "text": [
      "C:\\Users\\ASUS\\AppData\\Local\\Temp\\ipykernel_18556\\732000175.py:1: UserWarning: pandas only supports SQLAlchemy connectable (engine/connection) or database string URI or sqlite3 DBAPI2 connection. Other DBAPI2 objects are not tested. Please consider using SQLAlchemy.\n",
      "  customers_df = pd.read_sql(query, connection)\n"
     ]
    }
   ],
   "source": [
    "customers_df = pd.read_sql(query, connection)\n",
    "print(customers_df.head())"
   ]
  },
  {
   "cell_type": "code",
   "execution_count": 23,
   "metadata": {},
   "outputs": [],
   "source": [
    "connection.close()"
   ]
  },
  {
   "cell_type": "markdown",
   "metadata": {},
   "source": [
    "## 3. Ambil data pengiriman dari API"
   ]
  },
  {
   "cell_type": "code",
   "execution_count": 33,
   "metadata": {},
   "outputs": [
    {
     "name": "stdout",
     "output_type": "stream",
     "text": [
      "Collecting requests\n",
      "  Using cached requests-2.31.0-py3-none-any.whl (62 kB)\n",
      "Collecting urllib3<3,>=1.21.1\n",
      "  Using cached urllib3-2.2.1-py3-none-any.whl (121 kB)\n",
      "Collecting charset-normalizer<4,>=2\n",
      "  Using cached charset_normalizer-3.3.2-cp39-cp39-win_amd64.whl (100 kB)\n",
      "Collecting certifi>=2017.4.17\n",
      "  Using cached certifi-2024.2.2-py3-none-any.whl (163 kB)\n",
      "Collecting idna<4,>=2.5\n",
      "  Downloading idna-3.7-py3-none-any.whl (66 kB)\n",
      "     ---------------------------------------- 66.8/66.8 KB 3.8 MB/s eta 0:00:00\n",
      "Installing collected packages: urllib3, idna, charset-normalizer, certifi, requests\n",
      "Successfully installed certifi-2024.2.2 charset-normalizer-3.3.2 idna-3.7 requests-2.31.0 urllib3-2.2.1\n",
      "Note: you may need to restart the kernel to use updated packages.\n"
     ]
    },
    {
     "name": "stderr",
     "output_type": "stream",
     "text": [
      "  WARNING: The script normalizer.exe is installed in 'c:\\Users\\ASUS\\AppData\\Local\\Programs\\Python\\Python39\\Scripts' which is not on PATH.\n",
      "  Consider adding this directory to PATH or, if you prefer to suppress this warning, use --no-warn-script-location.\n",
      "WARNING: You are using pip version 22.0.4; however, version 24.0 is available.\n",
      "You should consider upgrading via the 'c:\\Users\\ASUS\\AppData\\Local\\Programs\\Python\\Python39\\python.exe -m pip install --upgrade pip' command.\n"
     ]
    }
   ],
   "source": [
    "pip install requests"
   ]
  },
  {
   "cell_type": "code",
   "execution_count": 34,
   "metadata": {},
   "outputs": [],
   "source": [
    "import requests"
   ]
  },
  {
   "cell_type": "code",
   "execution_count": 35,
   "metadata": {},
   "outputs": [],
   "source": [
    "api_url = 'https://fakestoreapi.com/products'"
   ]
  },
  {
   "cell_type": "code",
   "execution_count": 36,
   "metadata": {},
   "outputs": [],
   "source": [
    "response = requests.get(api_url)"
   ]
  },
  {
   "cell_type": "code",
   "execution_count": 37,
   "metadata": {},
   "outputs": [
    {
     "name": "stdout",
     "output_type": "stream",
     "text": [
      "   id                                              title   price  \\\n",
      "0   1  Fjallraven - Foldsack No. 1 Backpack, Fits 15 ...  109.95   \n",
      "1   2             Mens Casual Premium Slim Fit T-Shirts    22.30   \n",
      "2   3                                 Mens Cotton Jacket   55.99   \n",
      "3   4                               Mens Casual Slim Fit   15.99   \n",
      "4   5  John Hardy Women's Legends Naga Gold & Silver ...  695.00   \n",
      "\n",
      "                                         description        category  \\\n",
      "0  Your perfect pack for everyday use and walks i...  men's clothing   \n",
      "1  Slim-fitting style, contrast raglan long sleev...  men's clothing   \n",
      "2  great outerwear jackets for Spring/Autumn/Wint...  men's clothing   \n",
      "3  The color could be slightly different between ...  men's clothing   \n",
      "4  From our Legends Collection, the Naga was insp...        jewelery   \n",
      "\n",
      "                                               image  \\\n",
      "0  https://fakestoreapi.com/img/81fPKd-2AYL._AC_S...   \n",
      "1  https://fakestoreapi.com/img/71-3HjGNDUL._AC_S...   \n",
      "2  https://fakestoreapi.com/img/71li-ujtlUL._AC_U...   \n",
      "3  https://fakestoreapi.com/img/71YXzeOuslL._AC_U...   \n",
      "4  https://fakestoreapi.com/img/71pWzhdJNwL._AC_U...   \n",
      "\n",
      "                        rating  \n",
      "0  {'rate': 3.9, 'count': 120}  \n",
      "1  {'rate': 4.1, 'count': 259}  \n",
      "2  {'rate': 4.7, 'count': 500}  \n",
      "3  {'rate': 2.1, 'count': 430}  \n",
      "4  {'rate': 4.6, 'count': 400}  \n"
     ]
    }
   ],
   "source": [
    "df = pd.DataFrame(response.json())\n",
    "print(df.head())"
   ]
  },
  {
   "cell_type": "markdown",
   "metadata": {},
   "source": [
    "## 4. Simpan semua data yang diingest ke dalam Pandas DataFrame dan ekspor ke file Parquet"
   ]
  },
  {
   "cell_type": "code",
   "execution_count": 46,
   "metadata": {},
   "outputs": [],
   "source": [
    "transaction_df.to_parquet('transactions_data.parquet')"
   ]
  },
  {
   "cell_type": "code",
   "execution_count": 48,
   "metadata": {},
   "outputs": [],
   "source": [
    "producs_df.to_parquet('products_data.parquet')"
   ]
  },
  {
   "cell_type": "code",
   "execution_count": 49,
   "metadata": {},
   "outputs": [],
   "source": [
    "customers_df.to_parquet('customers_data.parquet')"
   ]
  },
  {
   "cell_type": "code",
   "execution_count": 50,
   "metadata": {},
   "outputs": [],
   "source": [
    "df.to_parquet('data.parquet')"
   ]
  },
  {
   "cell_type": "code",
   "execution_count": null,
   "metadata": {},
   "outputs": [],
   "source": []
  }
 ],
 "metadata": {
  "kernelspec": {
   "display_name": "Python 3",
   "language": "python",
   "name": "python3"
  },
  "language_info": {
   "codemirror_mode": {
    "name": "ipython",
    "version": 3
   },
   "file_extension": ".py",
   "mimetype": "text/x-python",
   "name": "python",
   "nbconvert_exporter": "python",
   "pygments_lexer": "ipython3",
   "version": "3.9.13"
  }
 },
 "nbformat": 4,
 "nbformat_minor": 2
}
